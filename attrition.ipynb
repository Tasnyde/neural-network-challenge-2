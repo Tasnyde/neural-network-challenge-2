{
  "cells": [
    {
      "cell_type": "markdown",
      "metadata": {
        "id": "alIIEHibGc3M"
      },
      "source": [
        "## Part 1: Preprocessing"
      ]
    },
    {
      "cell_type": "code",
      "execution_count": 36,
      "metadata": {
        "colab": {
          "base_uri": "https://localhost:8080/",
          "height": 325
        },
        "id": "6eDUJ4NtGc3P",
        "outputId": "2480098c-135c-4cbf-9552-018494ee8ff5"
      },
      "outputs": [
        {
          "data": {
            "text/html": [
              "<div>\n",
              "<style scoped>\n",
              "    .dataframe tbody tr th:only-of-type {\n",
              "        vertical-align: middle;\n",
              "    }\n",
              "\n",
              "    .dataframe tbody tr th {\n",
              "        vertical-align: top;\n",
              "    }\n",
              "\n",
              "    .dataframe thead th {\n",
              "        text-align: right;\n",
              "    }\n",
              "</style>\n",
              "<table border=\"1\" class=\"dataframe\">\n",
              "  <thead>\n",
              "    <tr style=\"text-align: right;\">\n",
              "      <th></th>\n",
              "      <th>Age</th>\n",
              "      <th>Attrition</th>\n",
              "      <th>BusinessTravel</th>\n",
              "      <th>Department</th>\n",
              "      <th>DistanceFromHome</th>\n",
              "      <th>Education</th>\n",
              "      <th>EducationField</th>\n",
              "      <th>EnvironmentSatisfaction</th>\n",
              "      <th>HourlyRate</th>\n",
              "      <th>JobInvolvement</th>\n",
              "      <th>...</th>\n",
              "      <th>PerformanceRating</th>\n",
              "      <th>RelationshipSatisfaction</th>\n",
              "      <th>StockOptionLevel</th>\n",
              "      <th>TotalWorkingYears</th>\n",
              "      <th>TrainingTimesLastYear</th>\n",
              "      <th>WorkLifeBalance</th>\n",
              "      <th>YearsAtCompany</th>\n",
              "      <th>YearsInCurrentRole</th>\n",
              "      <th>YearsSinceLastPromotion</th>\n",
              "      <th>YearsWithCurrManager</th>\n",
              "    </tr>\n",
              "  </thead>\n",
              "  <tbody>\n",
              "    <tr>\n",
              "      <th>0</th>\n",
              "      <td>41</td>\n",
              "      <td>Yes</td>\n",
              "      <td>Travel_Rarely</td>\n",
              "      <td>Sales</td>\n",
              "      <td>1</td>\n",
              "      <td>2</td>\n",
              "      <td>Life Sciences</td>\n",
              "      <td>2</td>\n",
              "      <td>94</td>\n",
              "      <td>3</td>\n",
              "      <td>...</td>\n",
              "      <td>3</td>\n",
              "      <td>1</td>\n",
              "      <td>0</td>\n",
              "      <td>8</td>\n",
              "      <td>0</td>\n",
              "      <td>1</td>\n",
              "      <td>6</td>\n",
              "      <td>4</td>\n",
              "      <td>0</td>\n",
              "      <td>5</td>\n",
              "    </tr>\n",
              "    <tr>\n",
              "      <th>1</th>\n",
              "      <td>49</td>\n",
              "      <td>No</td>\n",
              "      <td>Travel_Frequently</td>\n",
              "      <td>Research &amp; Development</td>\n",
              "      <td>8</td>\n",
              "      <td>1</td>\n",
              "      <td>Life Sciences</td>\n",
              "      <td>3</td>\n",
              "      <td>61</td>\n",
              "      <td>2</td>\n",
              "      <td>...</td>\n",
              "      <td>4</td>\n",
              "      <td>4</td>\n",
              "      <td>1</td>\n",
              "      <td>10</td>\n",
              "      <td>3</td>\n",
              "      <td>3</td>\n",
              "      <td>10</td>\n",
              "      <td>7</td>\n",
              "      <td>1</td>\n",
              "      <td>7</td>\n",
              "    </tr>\n",
              "    <tr>\n",
              "      <th>2</th>\n",
              "      <td>37</td>\n",
              "      <td>Yes</td>\n",
              "      <td>Travel_Rarely</td>\n",
              "      <td>Research &amp; Development</td>\n",
              "      <td>2</td>\n",
              "      <td>2</td>\n",
              "      <td>Other</td>\n",
              "      <td>4</td>\n",
              "      <td>92</td>\n",
              "      <td>2</td>\n",
              "      <td>...</td>\n",
              "      <td>3</td>\n",
              "      <td>2</td>\n",
              "      <td>0</td>\n",
              "      <td>7</td>\n",
              "      <td>3</td>\n",
              "      <td>3</td>\n",
              "      <td>0</td>\n",
              "      <td>0</td>\n",
              "      <td>0</td>\n",
              "      <td>0</td>\n",
              "    </tr>\n",
              "    <tr>\n",
              "      <th>3</th>\n",
              "      <td>33</td>\n",
              "      <td>No</td>\n",
              "      <td>Travel_Frequently</td>\n",
              "      <td>Research &amp; Development</td>\n",
              "      <td>3</td>\n",
              "      <td>4</td>\n",
              "      <td>Life Sciences</td>\n",
              "      <td>4</td>\n",
              "      <td>56</td>\n",
              "      <td>3</td>\n",
              "      <td>...</td>\n",
              "      <td>3</td>\n",
              "      <td>3</td>\n",
              "      <td>0</td>\n",
              "      <td>8</td>\n",
              "      <td>3</td>\n",
              "      <td>3</td>\n",
              "      <td>8</td>\n",
              "      <td>7</td>\n",
              "      <td>3</td>\n",
              "      <td>0</td>\n",
              "    </tr>\n",
              "    <tr>\n",
              "      <th>4</th>\n",
              "      <td>27</td>\n",
              "      <td>No</td>\n",
              "      <td>Travel_Rarely</td>\n",
              "      <td>Research &amp; Development</td>\n",
              "      <td>2</td>\n",
              "      <td>1</td>\n",
              "      <td>Medical</td>\n",
              "      <td>1</td>\n",
              "      <td>40</td>\n",
              "      <td>3</td>\n",
              "      <td>...</td>\n",
              "      <td>3</td>\n",
              "      <td>4</td>\n",
              "      <td>1</td>\n",
              "      <td>6</td>\n",
              "      <td>3</td>\n",
              "      <td>3</td>\n",
              "      <td>2</td>\n",
              "      <td>2</td>\n",
              "      <td>2</td>\n",
              "      <td>2</td>\n",
              "    </tr>\n",
              "  </tbody>\n",
              "</table>\n",
              "<p>5 rows × 27 columns</p>\n",
              "</div>"
            ],
            "text/plain": [
              "   Age Attrition     BusinessTravel              Department  DistanceFromHome  \\\n",
              "0   41       Yes      Travel_Rarely                   Sales                 1   \n",
              "1   49        No  Travel_Frequently  Research & Development                 8   \n",
              "2   37       Yes      Travel_Rarely  Research & Development                 2   \n",
              "3   33        No  Travel_Frequently  Research & Development                 3   \n",
              "4   27        No      Travel_Rarely  Research & Development                 2   \n",
              "\n",
              "   Education EducationField  EnvironmentSatisfaction  HourlyRate  \\\n",
              "0          2  Life Sciences                        2          94   \n",
              "1          1  Life Sciences                        3          61   \n",
              "2          2          Other                        4          92   \n",
              "3          4  Life Sciences                        4          56   \n",
              "4          1        Medical                        1          40   \n",
              "\n",
              "   JobInvolvement  ...  PerformanceRating RelationshipSatisfaction  \\\n",
              "0               3  ...                  3                        1   \n",
              "1               2  ...                  4                        4   \n",
              "2               2  ...                  3                        2   \n",
              "3               3  ...                  3                        3   \n",
              "4               3  ...                  3                        4   \n",
              "\n",
              "   StockOptionLevel TotalWorkingYears  TrainingTimesLastYear WorkLifeBalance  \\\n",
              "0                 0                 8                      0               1   \n",
              "1                 1                10                      3               3   \n",
              "2                 0                 7                      3               3   \n",
              "3                 0                 8                      3               3   \n",
              "4                 1                 6                      3               3   \n",
              "\n",
              "   YearsAtCompany  YearsInCurrentRole  YearsSinceLastPromotion  \\\n",
              "0               6                   4                        0   \n",
              "1              10                   7                        1   \n",
              "2               0                   0                        0   \n",
              "3               8                   7                        3   \n",
              "4               2                   2                        2   \n",
              "\n",
              "   YearsWithCurrManager  \n",
              "0                     5  \n",
              "1                     7  \n",
              "2                     0  \n",
              "3                     0  \n",
              "4                     2  \n",
              "\n",
              "[5 rows x 27 columns]"
            ]
          },
          "execution_count": 36,
          "metadata": {},
          "output_type": "execute_result"
        }
      ],
      "source": [
        "# Import our dependencies\n",
        "from sklearn.model_selection import train_test_split\n",
        "from sklearn.preprocessing import StandardScaler\n",
        "import pandas as pd\n",
        "import numpy as np\n",
        "from tensorflow.keras.models import Model\n",
        "from tensorflow.keras import layers\n",
        "\n",
        "#  Import and read the attrition data\n",
        "attrition_df = pd.read_csv('https://static.bc-edx.com/ai/ail-v-1-0/m19/lms/datasets/attrition.csv')\n",
        "attrition_df.head()"
      ]
    },
    {
      "cell_type": "code",
      "execution_count": 37,
      "metadata": {
        "colab": {
          "base_uri": "https://localhost:8080/"
        },
        "id": "g22aQSY4Gc3Q",
        "outputId": "1f5c13c1-b981-4e40-a7ed-dd3fe6f1b81e"
      },
      "outputs": [
        {
          "name": "stdout",
          "output_type": "stream",
          "text": [
            "Age                         43\n",
            "Attrition                    2\n",
            "BusinessTravel               3\n",
            "Department                   3\n",
            "DistanceFromHome            29\n",
            "Education                    5\n",
            "EducationField               6\n",
            "EnvironmentSatisfaction      4\n",
            "HourlyRate                  71\n",
            "JobInvolvement               4\n",
            "JobLevel                     5\n",
            "JobRole                      9\n",
            "JobSatisfaction              4\n",
            "MaritalStatus                3\n",
            "NumCompaniesWorked          10\n",
            "OverTime                     2\n",
            "PercentSalaryHike           15\n",
            "PerformanceRating            2\n",
            "RelationshipSatisfaction     4\n",
            "StockOptionLevel             4\n",
            "TotalWorkingYears           40\n",
            "TrainingTimesLastYear        7\n",
            "WorkLifeBalance              4\n",
            "YearsAtCompany              37\n",
            "YearsInCurrentRole          19\n",
            "YearsSinceLastPromotion     16\n",
            "YearsWithCurrManager        18\n",
            "dtype: int64\n"
          ]
        }
      ],
      "source": [
        "# Determine the number of unique values in each column.\n",
        "unique_values = attrition_df.nunique()\n",
        "print(unique_values)"
      ]
    },
    {
      "cell_type": "code",
      "execution_count": 38,
      "metadata": {
        "id": "50vMgBEnJbfM"
      },
      "outputs": [
        {
          "name": "stdout",
          "output_type": "stream",
          "text": [
            "  Attrition              Department\n",
            "0       Yes                   Sales\n",
            "1        No  Research & Development\n",
            "2       Yes  Research & Development\n",
            "3        No  Research & Development\n",
            "4        No  Research & Development\n"
          ]
        }
      ],
      "source": [
        "# Create y_df with the Attrition and Department columns\n",
        "y_df = attrition_df[['Attrition', 'Department']]\n",
        "print(y_df.head())\n"
      ]
    },
    {
      "cell_type": "code",
      "execution_count": 39,
      "metadata": {
        "colab": {
          "base_uri": "https://localhost:8080/"
        },
        "id": "Virka0zLGc3R",
        "outputId": "dd5aee3a-9458-4ba6-e857-1b234de40915"
      },
      "outputs": [
        {
          "name": "stdout",
          "output_type": "stream",
          "text": [
            "Age                         int64\n",
            "BusinessTravel             object\n",
            "DistanceFromHome            int64\n",
            "Education                   int64\n",
            "EnvironmentSatisfaction     int64\n",
            "HourlyRate                  int64\n",
            "JobInvolvement              int64\n",
            "JobLevel                    int64\n",
            "MaritalStatus              object\n",
            "NumCompaniesWorked          int64\n",
            "dtype: object\n"
          ]
        }
      ],
      "source": [
        "# Create a list of at least 10 column names to use as X data\n",
        "selected_columns = ['Age', 'BusinessTravel', 'DistanceFromHome', 'Education', \n",
        "                    'EnvironmentSatisfaction', 'HourlyRate', 'JobInvolvement', \n",
        "                    'JobLevel', 'MaritalStatus', 'NumCompaniesWorked']\n",
        "\n",
        "# Create X_df using your selected columns\n",
        "X_df = attrition_df[selected_columns]\n",
        "\n",
        "# Show the data types for X_df\n",
        "print(X_df.dtypes)\n"
      ]
    },
    {
      "cell_type": "code",
      "execution_count": 40,
      "metadata": {
        "id": "KaJfdOGUMHMR"
      },
      "outputs": [
        {
          "name": "stdout",
          "output_type": "stream",
          "text": [
            "Training set size: (1176, 10)\n",
            "Testing set size: (294, 10)\n"
          ]
        }
      ],
      "source": [
        "# Split the data into training and testing sets\n",
        "X_train, X_test, y_train, y_test = train_test_split(X_df, y_df, test_size=0.2, random_state=42)\n",
        "\n",
        "# Optional: Verify the sizes of the training and testing sets\n",
        "print(\"Training set size:\", X_train.shape)\n",
        "print(\"Testing set size:\", X_test.shape)"
      ]
    },
    {
      "cell_type": "code",
      "execution_count": 41,
      "metadata": {
        "colab": {
          "base_uri": "https://localhost:8080/"
        },
        "id": "NYubUJqiLCSp",
        "outputId": "53f31721-571c-4c94-d13e-25a715749593"
      },
      "outputs": [
        {
          "name": "stdout",
          "output_type": "stream",
          "text": [
            "Transformed feature names: Index(['Age', 'DistanceFromHome', 'Education', 'EnvironmentSatisfaction',\n",
            "       'HourlyRate', 'JobInvolvement', 'JobLevel', 'NumCompaniesWorked',\n",
            "       'BusinessTravel_Non-Travel', 'BusinessTravel_Travel_Frequently',\n",
            "       'BusinessTravel_Travel_Rarely', 'MaritalStatus_Divorced',\n",
            "       'MaritalStatus_Married', 'MaritalStatus_Single'],\n",
            "      dtype='object')\n"
          ]
        }
      ],
      "source": [
        "# Convert your X data to numeric data types however you see fit\n",
        "# Add new code cells as necessary\n",
        "X_train = pd.get_dummies(X_train)\n",
        "X_test = pd.get_dummies(X_test)\n",
        "\n",
        "X_train, X_test = X_train.align(X_test, join='inner', axis=1)   \n",
        "\n",
        "print(\"Transformed feature names:\", X_train.columns)\n",
        "\n",
        "\n",
        "        "
      ]
    },
    {
      "cell_type": "code",
      "execution_count": 42,
      "metadata": {
        "id": "EWA-aIA5Gc3T"
      },
      "outputs": [
        {
          "name": "stdout",
          "output_type": "stream",
          "text": [
            "Scaled training data shape: (1176, 14)\n",
            "Scaled testing data shape: (294, 14)\n"
          ]
        }
      ],
      "source": [
        "# Create a StandardScaler\n",
        "scaler = StandardScaler()\n",
        "\n",
        "# Fit the StandardScaler to the training data\n",
        "X_train_scaled = scaler.fit_transform(X_train)\n",
        "\n",
        "# Scale the training and testing data\n",
        "X_test_scaled = scaler.transform(X_test)\n",
        "\n",
        "print(\"Scaled training data shape:\", X_train_scaled.shape)\n",
        "print(\"Scaled testing data shape:\", X_test_scaled.shape)\n"
      ]
    },
    {
      "cell_type": "code",
      "execution_count": 43,
      "metadata": {
        "colab": {
          "base_uri": "https://localhost:8080/"
        },
        "id": "-z0Mky8vQSz4",
        "outputId": "debefc85-c20b-48f5-f4d9-91eadd65d36a"
      },
      "outputs": [
        {
          "name": "stdout",
          "output_type": "stream",
          "text": [
            "Encoded training data shape: (1176, 3)\n",
            "Encoded testing data shape: (294, 3)\n"
          ]
        }
      ],
      "source": [
        "# Import OneHotEncoder from sklearn.preprocessing\n",
        "from sklearn.preprocessing import OneHotEncoder\n",
        "\n",
        "# Create an instance of OneHotEncoder for the Department column\n",
        "encoder_department = OneHotEncoder()   \n",
        "\n",
        "# Fit the encoder to the training data\n",
        "encoder_department.fit(y_train[['Department']])  \n",
        "\n",
        "# Create two new variables by applying the encoder to the training and testing data\n",
        "# Convert the sparse matrix to a dense array\n",
        "y_train_department_encoded = encoder_department.transform(y_train[['Department']]).toarray()\n",
        "y_test_department_encoded = encoder_department.transform(y_test[['Department']]).toarray()\n",
        "\n",
        "print(\"Encoded training data shape:\", y_train_department_encoded.shape)\n",
        "print(\"Encoded testing data shape:\", y_test_department_encoded.shape)"
      ]
    },
    {
      "cell_type": "code",
      "execution_count": 44,
      "metadata": {
        "colab": {
          "base_uri": "https://localhost:8080/"
        },
        "id": "-G4DSpvFRrk4",
        "outputId": "9842e948-8a55-4b80-8fac-f96714e85589"
      },
      "outputs": [
        {
          "name": "stdout",
          "output_type": "stream",
          "text": [
            "Encoded training data shape: (1176, 2)\n",
            "Encoded testing data shape: (294, 2)\n"
          ]
        }
      ],
      "source": [
        "# Create a OneHotEncoder for the Attrition column\n",
        "encoder_attrition = OneHotEncoder()\n",
        "\n",
        "# Fit the encoder to the training data\n",
        "encoder_attrition.fit(y_train[['Attrition']])\n",
        "\n",
        "# Create two new variables by applying the encoder\n",
        "# to the training and testing data\n",
        "\n",
        "y_train_attrition_encoded = encoder_attrition.transform(y_train[['Attrition']]).toarray()\n",
        "y_test_attrition_encoded = encoder_attrition.transform(y_test[['Attrition']]).toarray()\n",
        "\n",
        "print(\"Encoded training data shape:\", y_train_attrition_encoded.shape)\n",
        "print(\"Encoded testing data shape:\", y_test_attrition_encoded.shape)\n"
      ]
    },
    {
      "cell_type": "markdown",
      "metadata": {
        "id": "ykNmu_WWGc3T"
      },
      "source": [
        "## Create, Compile, and Train the Model"
      ]
    },
    {
      "cell_type": "code",
      "execution_count": 45,
      "metadata": {
        "id": "WUptZqmSGc3T"
      },
      "outputs": [],
      "source": [
        "# Find the number of columns in the X training data\n",
        "num_columns = X_train.shape[1]\n",
        "\n",
        "# Create the input layer\n",
        "input_layer = layers.Input(shape=(num_columns,))\n",
        "\n",
        "# Create at least two shared layers\n",
        "shared_layer1 = layers.Dense(128, activation='relu')(input_layer)\n",
        "shared_layer2 = layers.Dense(64, activation='relu')(shared_layer1)"
      ]
    },
    {
      "cell_type": "code",
      "execution_count": 46,
      "metadata": {
        "id": "JukjTm2yTEqd"
      },
      "outputs": [],
      "source": [
        "# Create a branch for Department\n",
        "# with a hidden layer and an output layer\n",
        "    \n",
        "# Create the hidden layer\n",
        "department_hidden = layers.Dense(32, activation='relu')(shared_layer2)\n",
        "\n",
        "# Create the output layer\n",
        "department_output = layers.Dense(y_train_department_encoded.shape[1], activation='softmax', name='department_output')(department_hidden)\n",
        "\n",
        "\n"
      ]
    },
    {
      "cell_type": "code",
      "execution_count": 47,
      "metadata": {},
      "outputs": [],
      "source": [
        "# Create a branch for Attrition\n",
        "# with a hidden layer and an output layer\n",
        "\n",
        "\n",
        "# Create the hidden layer\n",
        "attrition_hidden = layers.Dense(32, activation='relu')(shared_layer2)\n",
        "\n",
        "# Create the output layer\n",
        "attrition_output = layers.Dense(y_train_attrition_encoded.shape[1], activation='softmax', name='attrition_output')(attrition_hidden)\n"
      ]
    },
    {
      "cell_type": "code",
      "execution_count": 48,
      "metadata": {
        "colab": {
          "base_uri": "https://localhost:8080/"
        },
        "id": "twmuejdxGc3T",
        "outputId": "25096308-b68b-42e4-e4ea-ae82e97c435a"
      },
      "outputs": [
        {
          "data": {
            "text/html": [
              "<pre style=\"white-space:pre;overflow-x:auto;line-height:normal;font-family:Menlo,'DejaVu Sans Mono',consolas,'Courier New',monospace\"><span style=\"font-weight: bold\">Model: \"functional_7\"</span>\n",
              "</pre>\n"
            ],
            "text/plain": [
              "\u001b[1mModel: \"functional_7\"\u001b[0m\n"
            ]
          },
          "metadata": {},
          "output_type": "display_data"
        },
        {
          "data": {
            "text/html": [
              "<pre style=\"white-space:pre;overflow-x:auto;line-height:normal;font-family:Menlo,'DejaVu Sans Mono',consolas,'Courier New',monospace\">┏━━━━━━━━━━━━━━━━━━━━━┳━━━━━━━━━━━━━━━━━━━┳━━━━━━━━━━━━┳━━━━━━━━━━━━━━━━━━━┓\n",
              "┃<span style=\"font-weight: bold\"> Layer (type)        </span>┃<span style=\"font-weight: bold\"> Output Shape      </span>┃<span style=\"font-weight: bold\">    Param # </span>┃<span style=\"font-weight: bold\"> Connected to      </span>┃\n",
              "┡━━━━━━━━━━━━━━━━━━━━━╇━━━━━━━━━━━━━━━━━━━╇━━━━━━━━━━━━╇━━━━━━━━━━━━━━━━━━━┩\n",
              "│ input_layer_1       │ (<span style=\"color: #00d7ff; text-decoration-color: #00d7ff\">None</span>, <span style=\"color: #00af00; text-decoration-color: #00af00\">14</span>)        │          <span style=\"color: #00af00; text-decoration-color: #00af00\">0</span> │ -                 │\n",
              "│ (<span style=\"color: #0087ff; text-decoration-color: #0087ff\">InputLayer</span>)        │                   │            │                   │\n",
              "├─────────────────────┼───────────────────┼────────────┼───────────────────┤\n",
              "│ dense_4 (<span style=\"color: #0087ff; text-decoration-color: #0087ff\">Dense</span>)     │ (<span style=\"color: #00d7ff; text-decoration-color: #00d7ff\">None</span>, <span style=\"color: #00af00; text-decoration-color: #00af00\">128</span>)       │      <span style=\"color: #00af00; text-decoration-color: #00af00\">1,920</span> │ input_layer_1[<span style=\"color: #00af00; text-decoration-color: #00af00\">0</span>]… │\n",
              "├─────────────────────┼───────────────────┼────────────┼───────────────────┤\n",
              "│ dense_5 (<span style=\"color: #0087ff; text-decoration-color: #0087ff\">Dense</span>)     │ (<span style=\"color: #00d7ff; text-decoration-color: #00d7ff\">None</span>, <span style=\"color: #00af00; text-decoration-color: #00af00\">64</span>)        │      <span style=\"color: #00af00; text-decoration-color: #00af00\">8,256</span> │ dense_4[<span style=\"color: #00af00; text-decoration-color: #00af00\">0</span>][<span style=\"color: #00af00; text-decoration-color: #00af00\">0</span>]     │\n",
              "├─────────────────────┼───────────────────┼────────────┼───────────────────┤\n",
              "│ dense_6 (<span style=\"color: #0087ff; text-decoration-color: #0087ff\">Dense</span>)     │ (<span style=\"color: #00d7ff; text-decoration-color: #00d7ff\">None</span>, <span style=\"color: #00af00; text-decoration-color: #00af00\">32</span>)        │      <span style=\"color: #00af00; text-decoration-color: #00af00\">2,080</span> │ dense_5[<span style=\"color: #00af00; text-decoration-color: #00af00\">0</span>][<span style=\"color: #00af00; text-decoration-color: #00af00\">0</span>]     │\n",
              "├─────────────────────┼───────────────────┼────────────┼───────────────────┤\n",
              "│ dense_7 (<span style=\"color: #0087ff; text-decoration-color: #0087ff\">Dense</span>)     │ (<span style=\"color: #00d7ff; text-decoration-color: #00d7ff\">None</span>, <span style=\"color: #00af00; text-decoration-color: #00af00\">32</span>)        │      <span style=\"color: #00af00; text-decoration-color: #00af00\">2,080</span> │ dense_5[<span style=\"color: #00af00; text-decoration-color: #00af00\">0</span>][<span style=\"color: #00af00; text-decoration-color: #00af00\">0</span>]     │\n",
              "├─────────────────────┼───────────────────┼────────────┼───────────────────┤\n",
              "│ department_output   │ (<span style=\"color: #00d7ff; text-decoration-color: #00d7ff\">None</span>, <span style=\"color: #00af00; text-decoration-color: #00af00\">3</span>)         │         <span style=\"color: #00af00; text-decoration-color: #00af00\">99</span> │ dense_6[<span style=\"color: #00af00; text-decoration-color: #00af00\">0</span>][<span style=\"color: #00af00; text-decoration-color: #00af00\">0</span>]     │\n",
              "│ (<span style=\"color: #0087ff; text-decoration-color: #0087ff\">Dense</span>)             │                   │            │                   │\n",
              "├─────────────────────┼───────────────────┼────────────┼───────────────────┤\n",
              "│ attrition_output    │ (<span style=\"color: #00d7ff; text-decoration-color: #00d7ff\">None</span>, <span style=\"color: #00af00; text-decoration-color: #00af00\">2</span>)         │         <span style=\"color: #00af00; text-decoration-color: #00af00\">66</span> │ dense_7[<span style=\"color: #00af00; text-decoration-color: #00af00\">0</span>][<span style=\"color: #00af00; text-decoration-color: #00af00\">0</span>]     │\n",
              "│ (<span style=\"color: #0087ff; text-decoration-color: #0087ff\">Dense</span>)             │                   │            │                   │\n",
              "└─────────────────────┴───────────────────┴────────────┴───────────────────┘\n",
              "</pre>\n"
            ],
            "text/plain": [
              "┏━━━━━━━━━━━━━━━━━━━━━┳━━━━━━━━━━━━━━━━━━━┳━━━━━━━━━━━━┳━━━━━━━━━━━━━━━━━━━┓\n",
              "┃\u001b[1m \u001b[0m\u001b[1mLayer (type)       \u001b[0m\u001b[1m \u001b[0m┃\u001b[1m \u001b[0m\u001b[1mOutput Shape     \u001b[0m\u001b[1m \u001b[0m┃\u001b[1m \u001b[0m\u001b[1m   Param #\u001b[0m\u001b[1m \u001b[0m┃\u001b[1m \u001b[0m\u001b[1mConnected to     \u001b[0m\u001b[1m \u001b[0m┃\n",
              "┡━━━━━━━━━━━━━━━━━━━━━╇━━━━━━━━━━━━━━━━━━━╇━━━━━━━━━━━━╇━━━━━━━━━━━━━━━━━━━┩\n",
              "│ input_layer_1       │ (\u001b[38;5;45mNone\u001b[0m, \u001b[38;5;34m14\u001b[0m)        │          \u001b[38;5;34m0\u001b[0m │ -                 │\n",
              "│ (\u001b[38;5;33mInputLayer\u001b[0m)        │                   │            │                   │\n",
              "├─────────────────────┼───────────────────┼────────────┼───────────────────┤\n",
              "│ dense_4 (\u001b[38;5;33mDense\u001b[0m)     │ (\u001b[38;5;45mNone\u001b[0m, \u001b[38;5;34m128\u001b[0m)       │      \u001b[38;5;34m1,920\u001b[0m │ input_layer_1[\u001b[38;5;34m0\u001b[0m]… │\n",
              "├─────────────────────┼───────────────────┼────────────┼───────────────────┤\n",
              "│ dense_5 (\u001b[38;5;33mDense\u001b[0m)     │ (\u001b[38;5;45mNone\u001b[0m, \u001b[38;5;34m64\u001b[0m)        │      \u001b[38;5;34m8,256\u001b[0m │ dense_4[\u001b[38;5;34m0\u001b[0m][\u001b[38;5;34m0\u001b[0m]     │\n",
              "├─────────────────────┼───────────────────┼────────────┼───────────────────┤\n",
              "│ dense_6 (\u001b[38;5;33mDense\u001b[0m)     │ (\u001b[38;5;45mNone\u001b[0m, \u001b[38;5;34m32\u001b[0m)        │      \u001b[38;5;34m2,080\u001b[0m │ dense_5[\u001b[38;5;34m0\u001b[0m][\u001b[38;5;34m0\u001b[0m]     │\n",
              "├─────────────────────┼───────────────────┼────────────┼───────────────────┤\n",
              "│ dense_7 (\u001b[38;5;33mDense\u001b[0m)     │ (\u001b[38;5;45mNone\u001b[0m, \u001b[38;5;34m32\u001b[0m)        │      \u001b[38;5;34m2,080\u001b[0m │ dense_5[\u001b[38;5;34m0\u001b[0m][\u001b[38;5;34m0\u001b[0m]     │\n",
              "├─────────────────────┼───────────────────┼────────────┼───────────────────┤\n",
              "│ department_output   │ (\u001b[38;5;45mNone\u001b[0m, \u001b[38;5;34m3\u001b[0m)         │         \u001b[38;5;34m99\u001b[0m │ dense_6[\u001b[38;5;34m0\u001b[0m][\u001b[38;5;34m0\u001b[0m]     │\n",
              "│ (\u001b[38;5;33mDense\u001b[0m)             │                   │            │                   │\n",
              "├─────────────────────┼───────────────────┼────────────┼───────────────────┤\n",
              "│ attrition_output    │ (\u001b[38;5;45mNone\u001b[0m, \u001b[38;5;34m2\u001b[0m)         │         \u001b[38;5;34m66\u001b[0m │ dense_7[\u001b[38;5;34m0\u001b[0m][\u001b[38;5;34m0\u001b[0m]     │\n",
              "│ (\u001b[38;5;33mDense\u001b[0m)             │                   │            │                   │\n",
              "└─────────────────────┴───────────────────┴────────────┴───────────────────┘\n"
            ]
          },
          "metadata": {},
          "output_type": "display_data"
        },
        {
          "data": {
            "text/html": [
              "<pre style=\"white-space:pre;overflow-x:auto;line-height:normal;font-family:Menlo,'DejaVu Sans Mono',consolas,'Courier New',monospace\"><span style=\"font-weight: bold\"> Total params: </span><span style=\"color: #00af00; text-decoration-color: #00af00\">14,501</span> (56.64 KB)\n",
              "</pre>\n"
            ],
            "text/plain": [
              "\u001b[1m Total params: \u001b[0m\u001b[38;5;34m14,501\u001b[0m (56.64 KB)\n"
            ]
          },
          "metadata": {},
          "output_type": "display_data"
        },
        {
          "data": {
            "text/html": [
              "<pre style=\"white-space:pre;overflow-x:auto;line-height:normal;font-family:Menlo,'DejaVu Sans Mono',consolas,'Courier New',monospace\"><span style=\"font-weight: bold\"> Trainable params: </span><span style=\"color: #00af00; text-decoration-color: #00af00\">14,501</span> (56.64 KB)\n",
              "</pre>\n"
            ],
            "text/plain": [
              "\u001b[1m Trainable params: \u001b[0m\u001b[38;5;34m14,501\u001b[0m (56.64 KB)\n"
            ]
          },
          "metadata": {},
          "output_type": "display_data"
        },
        {
          "data": {
            "text/html": [
              "<pre style=\"white-space:pre;overflow-x:auto;line-height:normal;font-family:Menlo,'DejaVu Sans Mono',consolas,'Courier New',monospace\"><span style=\"font-weight: bold\"> Non-trainable params: </span><span style=\"color: #00af00; text-decoration-color: #00af00\">0</span> (0.00 B)\n",
              "</pre>\n"
            ],
            "text/plain": [
              "\u001b[1m Non-trainable params: \u001b[0m\u001b[38;5;34m0\u001b[0m (0.00 B)\n"
            ]
          },
          "metadata": {},
          "output_type": "display_data"
        }
      ],
      "source": [
        "# Create the model\n",
        "model = Model(inputs=input_layer, outputs=[department_output, attrition_output])\n",
        "# Compile the model\n",
        "model.compile(optimizer='adam', \n",
        "              loss={'department_output': 'categorical_crossentropy', 'attrition_output': 'binary_crossentropy'},\n",
        "              metrics={'department_output': 'accuracy', 'attrition_output': 'accuracy'})\n",
        "\n",
        "# Summarize the model\n",
        "model.summary()"
      ]
    },
    {
      "cell_type": "code",
      "execution_count": 49,
      "metadata": {},
      "outputs": [
        {
          "name": "stdout",
          "output_type": "stream",
          "text": [
            "Epoch 1/100\n"
          ]
        },
        {
          "name": "stdout",
          "output_type": "stream",
          "text": [
            "\u001b[1m94/94\u001b[0m \u001b[32m━━━━━━━━━━━━━━━━━━━━\u001b[0m\u001b[37m\u001b[0m \u001b[1m1s\u001b[0m 2ms/step - attrition_output_accuracy: 0.5970 - department_output_accuracy: 0.4827 - loss: 1.6167 - val_attrition_output_accuracy: 0.7966 - val_department_output_accuracy: 0.6314 - val_loss: 1.3191\n",
            "Epoch 2/100\n",
            "\u001b[1m94/94\u001b[0m \u001b[32m━━━━━━━━━━━━━━━━━━━━\u001b[0m\u001b[37m\u001b[0m \u001b[1m0s\u001b[0m 1ms/step - attrition_output_accuracy: 0.8438 - department_output_accuracy: 0.6737 - loss: 1.1345 - val_attrition_output_accuracy: 0.7966 - val_department_output_accuracy: 0.6314 - val_loss: 1.2653\n",
            "Epoch 3/100\n",
            "\u001b[1m94/94\u001b[0m \u001b[32m━━━━━━━━━━━━━━━━━━━━\u001b[0m\u001b[37m\u001b[0m \u001b[1m0s\u001b[0m 993us/step - attrition_output_accuracy: 0.8313 - department_output_accuracy: 0.6565 - loss: 1.1367 - val_attrition_output_accuracy: 0.7966 - val_department_output_accuracy: 0.6314 - val_loss: 1.2611\n",
            "Epoch 4/100\n",
            "\u001b[1m94/94\u001b[0m \u001b[32m━━━━━━━━━━━━━━━━━━━━\u001b[0m\u001b[37m\u001b[0m \u001b[1m0s\u001b[0m 1ms/step - attrition_output_accuracy: 0.8617 - department_output_accuracy: 0.6360 - loss: 1.1009 - val_attrition_output_accuracy: 0.7924 - val_department_output_accuracy: 0.6314 - val_loss: 1.2456\n",
            "Epoch 5/100\n",
            "\u001b[1m94/94\u001b[0m \u001b[32m━━━━━━━━━━━━━━━━━━━━\u001b[0m\u001b[37m\u001b[0m \u001b[1m0s\u001b[0m 1ms/step - attrition_output_accuracy: 0.8334 - department_output_accuracy: 0.6435 - loss: 1.1074 - val_attrition_output_accuracy: 0.7924 - val_department_output_accuracy: 0.6271 - val_loss: 1.2642\n",
            "Epoch 6/100\n",
            "\u001b[1m94/94\u001b[0m \u001b[32m━━━━━━━━━━━━━━━━━━━━\u001b[0m\u001b[37m\u001b[0m \u001b[1m0s\u001b[0m 994us/step - attrition_output_accuracy: 0.8505 - department_output_accuracy: 0.6949 - loss: 1.0006 - val_attrition_output_accuracy: 0.8051 - val_department_output_accuracy: 0.6398 - val_loss: 1.2353\n",
            "Epoch 7/100\n",
            "\u001b[1m94/94\u001b[0m \u001b[32m━━━━━━━━━━━━━━━━━━━━\u001b[0m\u001b[37m\u001b[0m \u001b[1m0s\u001b[0m 998us/step - attrition_output_accuracy: 0.8704 - department_output_accuracy: 0.6750 - loss: 1.0177 - val_attrition_output_accuracy: 0.8093 - val_department_output_accuracy: 0.6017 - val_loss: 1.2467\n",
            "Epoch 8/100\n",
            "\u001b[1m94/94\u001b[0m \u001b[32m━━━━━━━━━━━━━━━━━━━━\u001b[0m\u001b[37m\u001b[0m \u001b[1m0s\u001b[0m 1ms/step - attrition_output_accuracy: 0.8758 - department_output_accuracy: 0.7261 - loss: 0.9562 - val_attrition_output_accuracy: 0.7966 - val_department_output_accuracy: 0.5890 - val_loss: 1.2564\n",
            "Epoch 9/100\n",
            "\u001b[1m94/94\u001b[0m \u001b[32m━━━━━━━━━━━━━━━━━━━━\u001b[0m\u001b[37m\u001b[0m \u001b[1m0s\u001b[0m 1ms/step - attrition_output_accuracy: 0.8676 - department_output_accuracy: 0.7417 - loss: 0.9215 - val_attrition_output_accuracy: 0.7966 - val_department_output_accuracy: 0.6102 - val_loss: 1.2527\n",
            "Epoch 10/100\n",
            "\u001b[1m94/94\u001b[0m \u001b[32m━━━━━━━━━━━━━━━━━━━━\u001b[0m\u001b[37m\u001b[0m \u001b[1m0s\u001b[0m 1ms/step - attrition_output_accuracy: 0.8500 - department_output_accuracy: 0.7065 - loss: 0.9691 - val_attrition_output_accuracy: 0.8051 - val_department_output_accuracy: 0.5847 - val_loss: 1.3181\n",
            "Epoch 11/100\n",
            "\u001b[1m94/94\u001b[0m \u001b[32m━━━━━━━━━━━━━━━━━━━━\u001b[0m\u001b[37m\u001b[0m \u001b[1m0s\u001b[0m 1ms/step - attrition_output_accuracy: 0.8585 - department_output_accuracy: 0.7445 - loss: 0.9201 - val_attrition_output_accuracy: 0.8178 - val_department_output_accuracy: 0.6314 - val_loss: 1.3342\n",
            "Epoch 12/100\n",
            "\u001b[1m94/94\u001b[0m \u001b[32m━━━━━━━━━━━━━━━━━━━━\u001b[0m\u001b[37m\u001b[0m \u001b[1m0s\u001b[0m 1ms/step - attrition_output_accuracy: 0.8914 - department_output_accuracy: 0.7553 - loss: 0.8339 - val_attrition_output_accuracy: 0.7881 - val_department_output_accuracy: 0.5932 - val_loss: 1.3046\n",
            "Epoch 13/100\n",
            "\u001b[1m94/94\u001b[0m \u001b[32m━━━━━━━━━━━━━━━━━━━━\u001b[0m\u001b[37m\u001b[0m \u001b[1m0s\u001b[0m 999us/step - attrition_output_accuracy: 0.8676 - department_output_accuracy: 0.7711 - loss: 0.8610 - val_attrition_output_accuracy: 0.8093 - val_department_output_accuracy: 0.5805 - val_loss: 1.3622\n",
            "Epoch 14/100\n",
            "\u001b[1m94/94\u001b[0m \u001b[32m━━━━━━━━━━━━━━━━━━━━\u001b[0m\u001b[37m\u001b[0m \u001b[1m0s\u001b[0m 1ms/step - attrition_output_accuracy: 0.8934 - department_output_accuracy: 0.7991 - loss: 0.8029 - val_attrition_output_accuracy: 0.7966 - val_department_output_accuracy: 0.6314 - val_loss: 1.4251\n",
            "Epoch 15/100\n",
            "\u001b[1m94/94\u001b[0m \u001b[32m━━━━━━━━━━━━━━━━━━━━\u001b[0m\u001b[37m\u001b[0m \u001b[1m0s\u001b[0m 1ms/step - attrition_output_accuracy: 0.8749 - department_output_accuracy: 0.7883 - loss: 0.8070 - val_attrition_output_accuracy: 0.7966 - val_department_output_accuracy: 0.5975 - val_loss: 1.4042\n",
            "Epoch 16/100\n",
            "\u001b[1m94/94\u001b[0m \u001b[32m━━━━━━━━━━━━━━━━━━━━\u001b[0m\u001b[37m\u001b[0m \u001b[1m0s\u001b[0m 1ms/step - attrition_output_accuracy: 0.8710 - department_output_accuracy: 0.8135 - loss: 0.7575 - val_attrition_output_accuracy: 0.7881 - val_department_output_accuracy: 0.6229 - val_loss: 1.3939\n",
            "Epoch 17/100\n",
            "\u001b[1m94/94\u001b[0m \u001b[32m━━━━━━━━━━━━━━━━━━━━\u001b[0m\u001b[37m\u001b[0m \u001b[1m0s\u001b[0m 1ms/step - attrition_output_accuracy: 0.8902 - department_output_accuracy: 0.8261 - loss: 0.7392 - val_attrition_output_accuracy: 0.7924 - val_department_output_accuracy: 0.6144 - val_loss: 1.5004\n",
            "Epoch 18/100\n",
            "\u001b[1m94/94\u001b[0m \u001b[32m━━━━━━━━━━━━━━━━━━━━\u001b[0m\u001b[37m\u001b[0m \u001b[1m0s\u001b[0m 2ms/step - attrition_output_accuracy: 0.8752 - department_output_accuracy: 0.8163 - loss: 0.7314 - val_attrition_output_accuracy: 0.7881 - val_department_output_accuracy: 0.5763 - val_loss: 1.5366\n",
            "Epoch 19/100\n",
            "\u001b[1m94/94\u001b[0m \u001b[32m━━━━━━━━━━━━━━━━━━━━\u001b[0m\u001b[37m\u001b[0m \u001b[1m0s\u001b[0m 1ms/step - attrition_output_accuracy: 0.8977 - department_output_accuracy: 0.8194 - loss: 0.6724 - val_attrition_output_accuracy: 0.7924 - val_department_output_accuracy: 0.5932 - val_loss: 1.5452\n",
            "Epoch 20/100\n",
            "\u001b[1m94/94\u001b[0m \u001b[32m━━━━━━━━━━━━━━━━━━━━\u001b[0m\u001b[37m\u001b[0m \u001b[1m0s\u001b[0m 994us/step - attrition_output_accuracy: 0.9089 - department_output_accuracy: 0.8460 - loss: 0.6274 - val_attrition_output_accuracy: 0.8008 - val_department_output_accuracy: 0.5890 - val_loss: 1.5981\n",
            "Epoch 21/100\n",
            "\u001b[1m94/94\u001b[0m \u001b[32m━━━━━━━━━━━━━━━━━━━━\u001b[0m\u001b[37m\u001b[0m \u001b[1m0s\u001b[0m 1ms/step - attrition_output_accuracy: 0.9019 - department_output_accuracy: 0.8350 - loss: 0.6339 - val_attrition_output_accuracy: 0.7924 - val_department_output_accuracy: 0.5763 - val_loss: 1.6229\n",
            "Epoch 22/100\n",
            "\u001b[1m94/94\u001b[0m \u001b[32m━━━━━━━━━━━━━━━━━━━━\u001b[0m\u001b[37m\u001b[0m \u001b[1m0s\u001b[0m 1ms/step - attrition_output_accuracy: 0.9172 - department_output_accuracy: 0.8890 - loss: 0.5435 - val_attrition_output_accuracy: 0.7881 - val_department_output_accuracy: 0.5847 - val_loss: 1.6600\n",
            "Epoch 23/100\n",
            "\u001b[1m94/94\u001b[0m \u001b[32m━━━━━━━━━━━━━━━━━━━━\u001b[0m\u001b[37m\u001b[0m \u001b[1m0s\u001b[0m 996us/step - attrition_output_accuracy: 0.9096 - department_output_accuracy: 0.8992 - loss: 0.5010 - val_attrition_output_accuracy: 0.7754 - val_department_output_accuracy: 0.5975 - val_loss: 1.6898\n",
            "Epoch 24/100\n",
            "\u001b[1m94/94\u001b[0m \u001b[32m━━━━━━━━━━━━━━━━━━━━\u001b[0m\u001b[37m\u001b[0m \u001b[1m0s\u001b[0m 1ms/step - attrition_output_accuracy: 0.9269 - department_output_accuracy: 0.8897 - loss: 0.4929 - val_attrition_output_accuracy: 0.7839 - val_department_output_accuracy: 0.5975 - val_loss: 1.7804\n",
            "Epoch 25/100\n",
            "\u001b[1m94/94\u001b[0m \u001b[32m━━━━━━━━━━━━━━━━━━━━\u001b[0m\u001b[37m\u001b[0m \u001b[1m0s\u001b[0m 1ms/step - attrition_output_accuracy: 0.9305 - department_output_accuracy: 0.9040 - loss: 0.4287 - val_attrition_output_accuracy: 0.7712 - val_department_output_accuracy: 0.6017 - val_loss: 1.7921\n",
            "Epoch 26/100\n",
            "\u001b[1m94/94\u001b[0m \u001b[32m━━━━━━━━━━━━━━━━━━━━\u001b[0m\u001b[37m\u001b[0m \u001b[1m0s\u001b[0m 1ms/step - attrition_output_accuracy: 0.9440 - department_output_accuracy: 0.9044 - loss: 0.4243 - val_attrition_output_accuracy: 0.7585 - val_department_output_accuracy: 0.6229 - val_loss: 1.8310\n",
            "Epoch 27/100\n",
            "\u001b[1m94/94\u001b[0m \u001b[32m━━━━━━━━━━━━━━━━━━━━\u001b[0m\u001b[37m\u001b[0m \u001b[1m0s\u001b[0m 1ms/step - attrition_output_accuracy: 0.9261 - department_output_accuracy: 0.9131 - loss: 0.3967 - val_attrition_output_accuracy: 0.7500 - val_department_output_accuracy: 0.5890 - val_loss: 1.8969\n",
            "Epoch 28/100\n",
            "\u001b[1m94/94\u001b[0m \u001b[32m━━━━━━━━━━━━━━━━━━━━\u001b[0m\u001b[37m\u001b[0m \u001b[1m0s\u001b[0m 1ms/step - attrition_output_accuracy: 0.9325 - department_output_accuracy: 0.9093 - loss: 0.4165 - val_attrition_output_accuracy: 0.7712 - val_department_output_accuracy: 0.5551 - val_loss: 2.0496\n",
            "Epoch 29/100\n",
            "\u001b[1m94/94\u001b[0m \u001b[32m━━━━━━━━━━━━━━━━━━━━\u001b[0m\u001b[37m\u001b[0m \u001b[1m0s\u001b[0m 1ms/step - attrition_output_accuracy: 0.9313 - department_output_accuracy: 0.9316 - loss: 0.3639 - val_attrition_output_accuracy: 0.7669 - val_department_output_accuracy: 0.5508 - val_loss: 2.0945\n",
            "Epoch 30/100\n",
            "\u001b[1m94/94\u001b[0m \u001b[32m━━━━━━━━━━━━━━━━━━━━\u001b[0m\u001b[37m\u001b[0m \u001b[1m0s\u001b[0m 977us/step - attrition_output_accuracy: 0.9384 - department_output_accuracy: 0.9366 - loss: 0.3512 - val_attrition_output_accuracy: 0.7627 - val_department_output_accuracy: 0.5890 - val_loss: 2.1728\n",
            "Epoch 31/100\n",
            "\u001b[1m94/94\u001b[0m \u001b[32m━━━━━━━━━━━━━━━━━━━━\u001b[0m\u001b[37m\u001b[0m \u001b[1m0s\u001b[0m 1ms/step - attrition_output_accuracy: 0.9563 - department_output_accuracy: 0.9438 - loss: 0.3088 - val_attrition_output_accuracy: 0.7585 - val_department_output_accuracy: 0.5593 - val_loss: 2.1909\n",
            "Epoch 32/100\n",
            "\u001b[1m94/94\u001b[0m \u001b[32m━━━━━━━━━━━━━━━━━━━━\u001b[0m\u001b[37m\u001b[0m \u001b[1m0s\u001b[0m 1ms/step - attrition_output_accuracy: 0.9627 - department_output_accuracy: 0.9480 - loss: 0.2839 - val_attrition_output_accuracy: 0.7458 - val_department_output_accuracy: 0.5551 - val_loss: 2.2299\n",
            "Epoch 33/100\n",
            "\u001b[1m94/94\u001b[0m \u001b[32m━━━━━━━━━━━━━━━━━━━━\u001b[0m\u001b[37m\u001b[0m \u001b[1m0s\u001b[0m 1ms/step - attrition_output_accuracy: 0.9624 - department_output_accuracy: 0.9324 - loss: 0.2964 - val_attrition_output_accuracy: 0.7669 - val_department_output_accuracy: 0.5593 - val_loss: 2.3849\n",
            "Epoch 34/100\n",
            "\u001b[1m94/94\u001b[0m \u001b[32m━━━━━━━━━━━━━━━━━━━━\u001b[0m\u001b[37m\u001b[0m \u001b[1m0s\u001b[0m 1ms/step - attrition_output_accuracy: 0.9596 - department_output_accuracy: 0.9491 - loss: 0.2835 - val_attrition_output_accuracy: 0.7839 - val_department_output_accuracy: 0.5551 - val_loss: 2.4459\n",
            "Epoch 35/100\n",
            "\u001b[1m94/94\u001b[0m \u001b[32m━━━━━━━━━━━━━━━━━━━━\u001b[0m\u001b[37m\u001b[0m \u001b[1m0s\u001b[0m 1ms/step - attrition_output_accuracy: 0.9660 - department_output_accuracy: 0.9522 - loss: 0.2480 - val_attrition_output_accuracy: 0.7754 - val_department_output_accuracy: 0.5297 - val_loss: 2.6033\n",
            "Epoch 36/100\n",
            "\u001b[1m94/94\u001b[0m \u001b[32m━━━━━━━━━━━━━━━━━━━━\u001b[0m\u001b[37m\u001b[0m \u001b[1m0s\u001b[0m 1ms/step - attrition_output_accuracy: 0.9747 - department_output_accuracy: 0.9430 - loss: 0.2299 - val_attrition_output_accuracy: 0.7542 - val_department_output_accuracy: 0.5763 - val_loss: 2.5946\n",
            "Epoch 37/100\n",
            "\u001b[1m94/94\u001b[0m \u001b[32m━━━━━━━━━━━━━━━━━━━━\u001b[0m\u001b[37m\u001b[0m \u001b[1m0s\u001b[0m 1ms/step - attrition_output_accuracy: 0.9824 - department_output_accuracy: 0.9681 - loss: 0.1975 - val_attrition_output_accuracy: 0.7712 - val_department_output_accuracy: 0.5508 - val_loss: 2.7380\n",
            "Epoch 38/100\n",
            "\u001b[1m94/94\u001b[0m \u001b[32m━━━━━━━━━━━━━━━━━━━━\u001b[0m\u001b[37m\u001b[0m \u001b[1m0s\u001b[0m 1ms/step - attrition_output_accuracy: 0.9712 - department_output_accuracy: 0.9640 - loss: 0.1906 - val_attrition_output_accuracy: 0.7627 - val_department_output_accuracy: 0.5381 - val_loss: 2.6947\n",
            "Epoch 39/100\n",
            "\u001b[1m94/94\u001b[0m \u001b[32m━━━━━━━━━━━━━━━━━━━━\u001b[0m\u001b[37m\u001b[0m \u001b[1m0s\u001b[0m 1ms/step - attrition_output_accuracy: 0.9757 - department_output_accuracy: 0.9691 - loss: 0.1900 - val_attrition_output_accuracy: 0.7669 - val_department_output_accuracy: 0.5593 - val_loss: 2.8653\n",
            "Epoch 40/100\n",
            "\u001b[1m94/94\u001b[0m \u001b[32m━━━━━━━━━━━━━━━━━━━━\u001b[0m\u001b[37m\u001b[0m \u001b[1m0s\u001b[0m 1ms/step - attrition_output_accuracy: 0.9584 - department_output_accuracy: 0.9729 - loss: 0.1861 - val_attrition_output_accuracy: 0.7627 - val_department_output_accuracy: 0.5847 - val_loss: 2.9196\n",
            "Epoch 41/100\n",
            "\u001b[1m94/94\u001b[0m \u001b[32m━━━━━━━━━━━━━━━━━━━━\u001b[0m\u001b[37m\u001b[0m \u001b[1m0s\u001b[0m 1ms/step - attrition_output_accuracy: 0.9808 - department_output_accuracy: 0.9833 - loss: 0.1505 - val_attrition_output_accuracy: 0.7500 - val_department_output_accuracy: 0.5424 - val_loss: 2.9813\n",
            "Epoch 42/100\n",
            "\u001b[1m94/94\u001b[0m \u001b[32m━━━━━━━━━━━━━━━━━━━━\u001b[0m\u001b[37m\u001b[0m \u001b[1m0s\u001b[0m 997us/step - attrition_output_accuracy: 0.9822 - department_output_accuracy: 0.9865 - loss: 0.1528 - val_attrition_output_accuracy: 0.7712 - val_department_output_accuracy: 0.5678 - val_loss: 3.0225\n",
            "Epoch 43/100\n",
            "\u001b[1m94/94\u001b[0m \u001b[32m━━━━━━━━━━━━━━━━━━━━\u001b[0m\u001b[37m\u001b[0m \u001b[1m0s\u001b[0m 1ms/step - attrition_output_accuracy: 0.9766 - department_output_accuracy: 0.9805 - loss: 0.1458 - val_attrition_output_accuracy: 0.7585 - val_department_output_accuracy: 0.5720 - val_loss: 3.0900\n",
            "Epoch 44/100\n",
            "\u001b[1m94/94\u001b[0m \u001b[32m━━━━━━━━━━━━━━━━━━━━\u001b[0m\u001b[37m\u001b[0m \u001b[1m0s\u001b[0m 991us/step - attrition_output_accuracy: 0.9888 - department_output_accuracy: 0.9763 - loss: 0.1366 - val_attrition_output_accuracy: 0.7500 - val_department_output_accuracy: 0.5593 - val_loss: 3.1808\n",
            "Epoch 45/100\n",
            "\u001b[1m94/94\u001b[0m \u001b[32m━━━━━━━━━━━━━━━━━━━━\u001b[0m\u001b[37m\u001b[0m \u001b[1m0s\u001b[0m 1ms/step - attrition_output_accuracy: 0.9861 - department_output_accuracy: 0.9853 - loss: 0.1220 - val_attrition_output_accuracy: 0.7500 - val_department_output_accuracy: 0.5678 - val_loss: 3.2427\n",
            "Epoch 46/100\n",
            "\u001b[1m94/94\u001b[0m \u001b[32m━━━━━━━━━━━━━━━━━━━━\u001b[0m\u001b[37m\u001b[0m \u001b[1m0s\u001b[0m 1ms/step - attrition_output_accuracy: 0.9844 - department_output_accuracy: 0.9887 - loss: 0.1094 - val_attrition_output_accuracy: 0.7415 - val_department_output_accuracy: 0.5593 - val_loss: 3.2892\n",
            "Epoch 47/100\n",
            "\u001b[1m94/94\u001b[0m \u001b[32m━━━━━━━━━━━━━━━━━━━━\u001b[0m\u001b[37m\u001b[0m \u001b[1m0s\u001b[0m 1ms/step - attrition_output_accuracy: 0.9935 - department_output_accuracy: 0.9921 - loss: 0.0912 - val_attrition_output_accuracy: 0.7669 - val_department_output_accuracy: 0.5636 - val_loss: 3.5359\n",
            "Epoch 48/100\n",
            "\u001b[1m94/94\u001b[0m \u001b[32m━━━━━━━━━━━━━━━━━━━━\u001b[0m\u001b[37m\u001b[0m \u001b[1m0s\u001b[0m 991us/step - attrition_output_accuracy: 0.9873 - department_output_accuracy: 0.9958 - loss: 0.1023 - val_attrition_output_accuracy: 0.7585 - val_department_output_accuracy: 0.5466 - val_loss: 3.6572\n",
            "Epoch 49/100\n",
            "\u001b[1m94/94\u001b[0m \u001b[32m━━━━━━━━━━━━━━━━━━━━\u001b[0m\u001b[37m\u001b[0m \u001b[1m0s\u001b[0m 1ms/step - attrition_output_accuracy: 0.9897 - department_output_accuracy: 0.9876 - loss: 0.1037 - val_attrition_output_accuracy: 0.7712 - val_department_output_accuracy: 0.5551 - val_loss: 3.5891\n",
            "Epoch 50/100\n",
            "\u001b[1m94/94\u001b[0m \u001b[32m━━━━━━━━━━━━━━━━━━━━\u001b[0m\u001b[37m\u001b[0m \u001b[1m0s\u001b[0m 1ms/step - attrition_output_accuracy: 0.9954 - department_output_accuracy: 0.9843 - loss: 0.1048 - val_attrition_output_accuracy: 0.7331 - val_department_output_accuracy: 0.5508 - val_loss: 3.8794\n",
            "Epoch 51/100\n",
            "\u001b[1m94/94\u001b[0m \u001b[32m━━━━━━━━━━━━━━━━━━━━\u001b[0m\u001b[37m\u001b[0m \u001b[1m0s\u001b[0m 1ms/step - attrition_output_accuracy: 0.9932 - department_output_accuracy: 0.9888 - loss: 0.0942 - val_attrition_output_accuracy: 0.7585 - val_department_output_accuracy: 0.5678 - val_loss: 3.7654\n",
            "Epoch 52/100\n",
            "\u001b[1m94/94\u001b[0m \u001b[32m━━━━━━━━━━━━━━━━━━━━\u001b[0m\u001b[37m\u001b[0m \u001b[1m0s\u001b[0m 1ms/step - attrition_output_accuracy: 0.9883 - department_output_accuracy: 0.9861 - loss: 0.1046 - val_attrition_output_accuracy: 0.7288 - val_department_output_accuracy: 0.5636 - val_loss: 3.7867\n",
            "Epoch 53/100\n",
            "\u001b[1m94/94\u001b[0m \u001b[32m━━━━━━━━━━━━━━━━━━━━\u001b[0m\u001b[37m\u001b[0m \u001b[1m0s\u001b[0m 1ms/step - attrition_output_accuracy: 0.9924 - department_output_accuracy: 0.9873 - loss: 0.0832 - val_attrition_output_accuracy: 0.7585 - val_department_output_accuracy: 0.5890 - val_loss: 3.8234\n",
            "Epoch 54/100\n",
            "\u001b[1m94/94\u001b[0m \u001b[32m━━━━━━━━━━━━━━━━━━━━\u001b[0m\u001b[37m\u001b[0m \u001b[1m0s\u001b[0m 1ms/step - attrition_output_accuracy: 0.9970 - department_output_accuracy: 0.9923 - loss: 0.0757 - val_attrition_output_accuracy: 0.7415 - val_department_output_accuracy: 0.5763 - val_loss: 4.2211\n",
            "Epoch 55/100\n",
            "\u001b[1m94/94\u001b[0m \u001b[32m━━━━━━━━━━━━━━━━━━━━\u001b[0m\u001b[37m\u001b[0m \u001b[1m0s\u001b[0m 1ms/step - attrition_output_accuracy: 0.9939 - department_output_accuracy: 0.9869 - loss: 0.0773 - val_attrition_output_accuracy: 0.7585 - val_department_output_accuracy: 0.5720 - val_loss: 4.2415\n",
            "Epoch 56/100\n",
            "\u001b[1m94/94\u001b[0m \u001b[32m━━━━━━━━━━━━━━━━━━━━\u001b[0m\u001b[37m\u001b[0m \u001b[1m0s\u001b[0m 1ms/step - attrition_output_accuracy: 0.9850 - department_output_accuracy: 0.9912 - loss: 0.0718 - val_attrition_output_accuracy: 0.7966 - val_department_output_accuracy: 0.5424 - val_loss: 4.4983\n",
            "Epoch 57/100\n",
            "\u001b[1m94/94\u001b[0m \u001b[32m━━━━━━━━━━━━━━━━━━━━\u001b[0m\u001b[37m\u001b[0m \u001b[1m0s\u001b[0m 1ms/step - attrition_output_accuracy: 0.9583 - department_output_accuracy: 0.9751 - loss: 0.2150 - val_attrition_output_accuracy: 0.7542 - val_department_output_accuracy: 0.5466 - val_loss: 4.1644\n",
            "Epoch 58/100\n",
            "\u001b[1m94/94\u001b[0m \u001b[32m━━━━━━━━━━━━━━━━━━━━\u001b[0m\u001b[37m\u001b[0m \u001b[1m0s\u001b[0m 2ms/step - attrition_output_accuracy: 0.9721 - department_output_accuracy: 0.9873 - loss: 0.1249 - val_attrition_output_accuracy: 0.7669 - val_department_output_accuracy: 0.5551 - val_loss: 4.3485\n",
            "Epoch 59/100\n",
            "\u001b[1m94/94\u001b[0m \u001b[32m━━━━━━━━━━━━━━━━━━━━\u001b[0m\u001b[37m\u001b[0m \u001b[1m0s\u001b[0m 1ms/step - attrition_output_accuracy: 0.9904 - department_output_accuracy: 0.9943 - loss: 0.0706 - val_attrition_output_accuracy: 0.7415 - val_department_output_accuracy: 0.5678 - val_loss: 4.1669\n",
            "Epoch 60/100\n",
            "\u001b[1m94/94\u001b[0m \u001b[32m━━━━━━━━━━━━━━━━━━━━\u001b[0m\u001b[37m\u001b[0m \u001b[1m0s\u001b[0m 1ms/step - attrition_output_accuracy: 0.9943 - department_output_accuracy: 0.9930 - loss: 0.0586 - val_attrition_output_accuracy: 0.7627 - val_department_output_accuracy: 0.5847 - val_loss: 4.4268\n",
            "Epoch 61/100\n",
            "\u001b[1m94/94\u001b[0m \u001b[32m━━━━━━━━━━━━━━━━━━━━\u001b[0m\u001b[37m\u001b[0m \u001b[1m0s\u001b[0m 1ms/step - attrition_output_accuracy: 0.9958 - department_output_accuracy: 0.9962 - loss: 0.0446 - val_attrition_output_accuracy: 0.7542 - val_department_output_accuracy: 0.5508 - val_loss: 4.4278\n",
            "Epoch 62/100\n",
            "\u001b[1m94/94\u001b[0m \u001b[32m━━━━━━━━━━━━━━━━━━━━\u001b[0m\u001b[37m\u001b[0m \u001b[1m0s\u001b[0m 1ms/step - attrition_output_accuracy: 0.9969 - department_output_accuracy: 0.9991 - loss: 0.0368 - val_attrition_output_accuracy: 0.7246 - val_department_output_accuracy: 0.5381 - val_loss: 4.5131\n",
            "Epoch 63/100\n",
            "\u001b[1m94/94\u001b[0m \u001b[32m━━━━━━━━━━━━━━━━━━━━\u001b[0m\u001b[37m\u001b[0m \u001b[1m0s\u001b[0m 1ms/step - attrition_output_accuracy: 0.9989 - department_output_accuracy: 0.9988 - loss: 0.0380 - val_attrition_output_accuracy: 0.7585 - val_department_output_accuracy: 0.5551 - val_loss: 4.6081\n",
            "Epoch 64/100\n",
            "\u001b[1m94/94\u001b[0m \u001b[32m━━━━━━━━━━━━━━━━━━━━\u001b[0m\u001b[37m\u001b[0m \u001b[1m0s\u001b[0m 1ms/step - attrition_output_accuracy: 0.9933 - department_output_accuracy: 0.9916 - loss: 0.0481 - val_attrition_output_accuracy: 0.7373 - val_department_output_accuracy: 0.5466 - val_loss: 4.5899\n",
            "Epoch 65/100\n",
            "\u001b[1m94/94\u001b[0m \u001b[32m━━━━━━━━━━━━━━━━━━━━\u001b[0m\u001b[37m\u001b[0m \u001b[1m0s\u001b[0m 1ms/step - attrition_output_accuracy: 0.9921 - department_output_accuracy: 0.9953 - loss: 0.0533 - val_attrition_output_accuracy: 0.7585 - val_department_output_accuracy: 0.5678 - val_loss: 4.7768\n",
            "Epoch 66/100\n",
            "\u001b[1m94/94\u001b[0m \u001b[32m━━━━━━━━━━━━━━━━━━━━\u001b[0m\u001b[37m\u001b[0m \u001b[1m0s\u001b[0m 995us/step - attrition_output_accuracy: 0.9967 - department_output_accuracy: 0.9991 - loss: 0.0303 - val_attrition_output_accuracy: 0.7627 - val_department_output_accuracy: 0.5297 - val_loss: 4.7508\n",
            "Epoch 67/100\n",
            "\u001b[1m94/94\u001b[0m \u001b[32m━━━━━━━━━━━━━━━━━━━━\u001b[0m\u001b[37m\u001b[0m \u001b[1m0s\u001b[0m 1ms/step - attrition_output_accuracy: 0.9990 - department_output_accuracy: 0.9993 - loss: 0.0269 - val_attrition_output_accuracy: 0.7542 - val_department_output_accuracy: 0.5636 - val_loss: 4.8840\n",
            "Epoch 68/100\n",
            "\u001b[1m94/94\u001b[0m \u001b[32m━━━━━━━━━━━━━━━━━━━━\u001b[0m\u001b[37m\u001b[0m \u001b[1m0s\u001b[0m 1ms/step - attrition_output_accuracy: 0.9970 - department_output_accuracy: 0.9965 - loss: 0.0446 - val_attrition_output_accuracy: 0.7754 - val_department_output_accuracy: 0.5466 - val_loss: 5.0627\n",
            "Epoch 69/100\n",
            "\u001b[1m94/94\u001b[0m \u001b[32m━━━━━━━━━━━━━━━━━━━━\u001b[0m\u001b[37m\u001b[0m \u001b[1m0s\u001b[0m 1ms/step - attrition_output_accuracy: 0.9997 - department_output_accuracy: 0.9943 - loss: 0.0385 - val_attrition_output_accuracy: 0.7076 - val_department_output_accuracy: 0.5508 - val_loss: 4.9260\n",
            "Epoch 70/100\n",
            "\u001b[1m94/94\u001b[0m \u001b[32m━━━━━━━━━━━━━━━━━━━━\u001b[0m\u001b[37m\u001b[0m \u001b[1m0s\u001b[0m 1ms/step - attrition_output_accuracy: 0.9980 - department_output_accuracy: 0.9923 - loss: 0.0412 - val_attrition_output_accuracy: 0.7500 - val_department_output_accuracy: 0.5636 - val_loss: 5.1341\n",
            "Epoch 71/100\n",
            "\u001b[1m94/94\u001b[0m \u001b[32m━━━━━━━━━━━━━━━━━━━━\u001b[0m\u001b[37m\u001b[0m \u001b[1m0s\u001b[0m 1ms/step - attrition_output_accuracy: 0.9880 - department_output_accuracy: 0.9968 - loss: 0.0485 - val_attrition_output_accuracy: 0.7500 - val_department_output_accuracy: 0.5551 - val_loss: 5.0785\n",
            "Epoch 72/100\n",
            "\u001b[1m94/94\u001b[0m \u001b[32m━━━━━━━━━━━━━━━━━━━━\u001b[0m\u001b[37m\u001b[0m \u001b[1m0s\u001b[0m 1ms/step - attrition_output_accuracy: 0.9961 - department_output_accuracy: 0.9745 - loss: 0.0826 - val_attrition_output_accuracy: 0.7331 - val_department_output_accuracy: 0.5424 - val_loss: 5.2305\n",
            "Epoch 73/100\n",
            "\u001b[1m94/94\u001b[0m \u001b[32m━━━━━━━━━━━━━━━━━━━━\u001b[0m\u001b[37m\u001b[0m \u001b[1m0s\u001b[0m 1ms/step - attrition_output_accuracy: 0.9799 - department_output_accuracy: 0.9690 - loss: 0.1590 - val_attrition_output_accuracy: 0.7585 - val_department_output_accuracy: 0.5932 - val_loss: 5.2904\n",
            "Epoch 74/100\n",
            "\u001b[1m94/94\u001b[0m \u001b[32m━━━━━━━━━━━━━━━━━━━━\u001b[0m\u001b[37m\u001b[0m \u001b[1m0s\u001b[0m 1ms/step - attrition_output_accuracy: 0.9639 - department_output_accuracy: 0.9587 - loss: 0.2087 - val_attrition_output_accuracy: 0.7415 - val_department_output_accuracy: 0.5678 - val_loss: 4.8591\n",
            "Epoch 75/100\n",
            "\u001b[1m94/94\u001b[0m \u001b[32m━━━━━━━━━━━━━━━━━━━━\u001b[0m\u001b[37m\u001b[0m \u001b[1m0s\u001b[0m 1ms/step - attrition_output_accuracy: 0.9884 - department_output_accuracy: 0.9667 - loss: 0.1280 - val_attrition_output_accuracy: 0.7331 - val_department_output_accuracy: 0.5678 - val_loss: 5.1140\n",
            "Epoch 76/100\n",
            "\u001b[1m94/94\u001b[0m \u001b[32m━━━━━━━━━━━━━━━━━━━━\u001b[0m\u001b[37m\u001b[0m \u001b[1m0s\u001b[0m 1ms/step - attrition_output_accuracy: 0.9848 - department_output_accuracy: 0.9889 - loss: 0.0798 - val_attrition_output_accuracy: 0.7500 - val_department_output_accuracy: 0.5593 - val_loss: 5.0250\n",
            "Epoch 77/100\n",
            "\u001b[1m94/94\u001b[0m \u001b[32m━━━━━━━━━━━━━━━━━━━━\u001b[0m\u001b[37m\u001b[0m \u001b[1m0s\u001b[0m 1ms/step - attrition_output_accuracy: 0.9983 - department_output_accuracy: 0.9990 - loss: 0.0298 - val_attrition_output_accuracy: 0.7585 - val_department_output_accuracy: 0.5551 - val_loss: 5.3131\n",
            "Epoch 78/100\n",
            "\u001b[1m94/94\u001b[0m \u001b[32m━━━━━━━━━━━━━━━━━━━━\u001b[0m\u001b[37m\u001b[0m \u001b[1m0s\u001b[0m 3ms/step - attrition_output_accuracy: 0.9986 - department_output_accuracy: 0.9990 - loss: 0.0232 - val_attrition_output_accuracy: 0.7542 - val_department_output_accuracy: 0.5551 - val_loss: 5.1621\n",
            "Epoch 79/100\n",
            "\u001b[1m94/94\u001b[0m \u001b[32m━━━━━━━━━━━━━━━━━━━━\u001b[0m\u001b[37m\u001b[0m \u001b[1m0s\u001b[0m 1ms/step - attrition_output_accuracy: 1.0000 - department_output_accuracy: 0.9943 - loss: 0.0255 - val_attrition_output_accuracy: 0.7542 - val_department_output_accuracy: 0.5551 - val_loss: 5.3234\n",
            "Epoch 80/100\n",
            "\u001b[1m94/94\u001b[0m \u001b[32m━━━━━━━━━━━━━━━━━━━━\u001b[0m\u001b[37m\u001b[0m \u001b[1m0s\u001b[0m 1ms/step - attrition_output_accuracy: 0.9998 - department_output_accuracy: 0.9951 - loss: 0.0220 - val_attrition_output_accuracy: 0.7500 - val_department_output_accuracy: 0.5890 - val_loss: 5.4070\n",
            "Epoch 81/100\n",
            "\u001b[1m94/94\u001b[0m \u001b[32m━━━━━━━━━━━━━━━━━━━━\u001b[0m\u001b[37m\u001b[0m \u001b[1m0s\u001b[0m 1ms/step - attrition_output_accuracy: 0.9951 - department_output_accuracy: 0.9960 - loss: 0.0316 - val_attrition_output_accuracy: 0.7542 - val_department_output_accuracy: 0.5763 - val_loss: 5.4894\n",
            "Epoch 82/100\n",
            "\u001b[1m94/94\u001b[0m \u001b[32m━━━━━━━━━━━━━━━━━━━━\u001b[0m\u001b[37m\u001b[0m \u001b[1m0s\u001b[0m 1ms/step - attrition_output_accuracy: 0.9999 - department_output_accuracy: 0.9754 - loss: 0.0552 - val_attrition_output_accuracy: 0.7415 - val_department_output_accuracy: 0.5763 - val_loss: 5.4009\n",
            "Epoch 83/100\n",
            "\u001b[1m94/94\u001b[0m \u001b[32m━━━━━━━━━━━━━━━━━━━━\u001b[0m\u001b[37m\u001b[0m \u001b[1m0s\u001b[0m 1ms/step - attrition_output_accuracy: 0.9957 - department_output_accuracy: 0.9953 - loss: 0.0365 - val_attrition_output_accuracy: 0.7331 - val_department_output_accuracy: 0.5720 - val_loss: 5.5254\n",
            "Epoch 84/100\n",
            "\u001b[1m94/94\u001b[0m \u001b[32m━━━━━━━━━━━━━━━━━━━━\u001b[0m\u001b[37m\u001b[0m \u001b[1m0s\u001b[0m 1ms/step - attrition_output_accuracy: 1.0000 - department_output_accuracy: 0.9982 - loss: 0.0191 - val_attrition_output_accuracy: 0.7585 - val_department_output_accuracy: 0.5847 - val_loss: 5.7029\n",
            "Epoch 85/100\n",
            "\u001b[1m94/94\u001b[0m \u001b[32m━━━━━━━━━━━━━━━━━━━━\u001b[0m\u001b[37m\u001b[0m \u001b[1m0s\u001b[0m 1ms/step - attrition_output_accuracy: 1.0000 - department_output_accuracy: 0.9969 - loss: 0.0255 - val_attrition_output_accuracy: 0.7458 - val_department_output_accuracy: 0.5847 - val_loss: 5.6731\n",
            "Epoch 86/100\n",
            "\u001b[1m94/94\u001b[0m \u001b[32m━━━━━━━━━━━━━━━━━━━━\u001b[0m\u001b[37m\u001b[0m \u001b[1m0s\u001b[0m 1ms/step - attrition_output_accuracy: 0.9989 - department_output_accuracy: 0.9967 - loss: 0.0296 - val_attrition_output_accuracy: 0.7627 - val_department_output_accuracy: 0.5805 - val_loss: 5.6643\n",
            "Epoch 87/100\n",
            "\u001b[1m94/94\u001b[0m \u001b[32m━━━━━━━━━━━━━━━━━━━━\u001b[0m\u001b[37m\u001b[0m \u001b[1m0s\u001b[0m 1ms/step - attrition_output_accuracy: 0.9977 - department_output_accuracy: 0.9985 - loss: 0.0179 - val_attrition_output_accuracy: 0.7415 - val_department_output_accuracy: 0.5890 - val_loss: 5.7535\n",
            "Epoch 88/100\n",
            "\u001b[1m94/94\u001b[0m \u001b[32m━━━━━━━━━━━━━━━━━━━━\u001b[0m\u001b[37m\u001b[0m \u001b[1m0s\u001b[0m 1ms/step - attrition_output_accuracy: 0.9992 - department_output_accuracy: 0.9984 - loss: 0.0174 - val_attrition_output_accuracy: 0.7500 - val_department_output_accuracy: 0.5763 - val_loss: 5.8377\n",
            "Epoch 89/100\n",
            "\u001b[1m94/94\u001b[0m \u001b[32m━━━━━━━━━━━━━━━━━━━━\u001b[0m\u001b[37m\u001b[0m \u001b[1m0s\u001b[0m 1ms/step - attrition_output_accuracy: 0.9962 - department_output_accuracy: 0.9924 - loss: 0.0336 - val_attrition_output_accuracy: 0.7373 - val_department_output_accuracy: 0.5593 - val_loss: 5.8619\n",
            "Epoch 90/100\n",
            "\u001b[1m94/94\u001b[0m \u001b[32m━━━━━━━━━━━━━━━━━━━━\u001b[0m\u001b[37m\u001b[0m \u001b[1m0s\u001b[0m 1ms/step - attrition_output_accuracy: 0.9984 - department_output_accuracy: 0.9983 - loss: 0.0203 - val_attrition_output_accuracy: 0.6992 - val_department_output_accuracy: 0.5678 - val_loss: 5.8569\n",
            "Epoch 91/100\n",
            "\u001b[1m94/94\u001b[0m \u001b[32m━━━━━━━━━━━━━━━━━━━━\u001b[0m\u001b[37m\u001b[0m \u001b[1m0s\u001b[0m 1ms/step - attrition_output_accuracy: 0.9838 - department_output_accuracy: 0.9923 - loss: 0.0743 - val_attrition_output_accuracy: 0.7034 - val_department_output_accuracy: 0.5636 - val_loss: 6.0163\n",
            "Epoch 92/100\n",
            "\u001b[1m94/94\u001b[0m \u001b[32m━━━━━━━━━━━━━━━━━━━━\u001b[0m\u001b[37m\u001b[0m \u001b[1m0s\u001b[0m 1ms/step - attrition_output_accuracy: 0.9693 - department_output_accuracy: 0.9676 - loss: 0.1784 - val_attrition_output_accuracy: 0.7076 - val_department_output_accuracy: 0.5424 - val_loss: 5.3393\n",
            "Epoch 93/100\n",
            "\u001b[1m94/94\u001b[0m \u001b[32m━━━━━━━━━━━━━━━━━━━━\u001b[0m\u001b[37m\u001b[0m \u001b[1m0s\u001b[0m 1ms/step - attrition_output_accuracy: 0.9731 - department_output_accuracy: 0.9619 - loss: 0.1716 - val_attrition_output_accuracy: 0.7246 - val_department_output_accuracy: 0.5932 - val_loss: 5.6621\n",
            "Epoch 94/100\n",
            "\u001b[1m94/94\u001b[0m \u001b[32m━━━━━━━━━━━━━━━━━━━━\u001b[0m\u001b[37m\u001b[0m \u001b[1m0s\u001b[0m 1ms/step - attrition_output_accuracy: 0.9897 - department_output_accuracy: 0.9740 - loss: 0.1011 - val_attrition_output_accuracy: 0.7415 - val_department_output_accuracy: 0.5805 - val_loss: 5.4600\n",
            "Epoch 95/100\n",
            "\u001b[1m94/94\u001b[0m \u001b[32m━━━━━━━━━━━━━━━━━━━━\u001b[0m\u001b[37m\u001b[0m \u001b[1m0s\u001b[0m 1ms/step - attrition_output_accuracy: 1.0000 - department_output_accuracy: 0.9938 - loss: 0.0466 - val_attrition_output_accuracy: 0.7458 - val_department_output_accuracy: 0.5636 - val_loss: 5.6113\n",
            "Epoch 96/100\n",
            "\u001b[1m94/94\u001b[0m \u001b[32m━━━━━━━━━━━━━━━━━━━━\u001b[0m\u001b[37m\u001b[0m \u001b[1m0s\u001b[0m 1ms/step - attrition_output_accuracy: 1.0000 - department_output_accuracy: 0.9986 - loss: 0.0202 - val_attrition_output_accuracy: 0.7373 - val_department_output_accuracy: 0.5636 - val_loss: 5.6766\n",
            "Epoch 97/100\n",
            "\u001b[1m94/94\u001b[0m \u001b[32m━━━━━━━━━━━━━━━━━━━━\u001b[0m\u001b[37m\u001b[0m \u001b[1m0s\u001b[0m 1ms/step - attrition_output_accuracy: 0.9999 - department_output_accuracy: 0.9998 - loss: 0.0116 - val_attrition_output_accuracy: 0.7331 - val_department_output_accuracy: 0.5593 - val_loss: 5.6653\n",
            "Epoch 98/100\n",
            "\u001b[1m94/94\u001b[0m \u001b[32m━━━━━━━━━━━━━━━━━━━━\u001b[0m\u001b[37m\u001b[0m \u001b[1m0s\u001b[0m 1ms/step - attrition_output_accuracy: 0.9999 - department_output_accuracy: 0.9999 - loss: 0.0089 - val_attrition_output_accuracy: 0.7331 - val_department_output_accuracy: 0.5763 - val_loss: 5.9324\n",
            "Epoch 99/100\n",
            "\u001b[1m94/94\u001b[0m \u001b[32m━━━━━━━━━━━━━━━━━━━━\u001b[0m\u001b[37m\u001b[0m \u001b[1m0s\u001b[0m 989us/step - attrition_output_accuracy: 0.9998 - department_output_accuracy: 0.9986 - loss: 0.0176 - val_attrition_output_accuracy: 0.7458 - val_department_output_accuracy: 0.5763 - val_loss: 6.0046\n",
            "Epoch 100/100\n",
            "\u001b[1m94/94\u001b[0m \u001b[32m━━━━━━━━━━━━━━━━━━━━\u001b[0m\u001b[37m\u001b[0m \u001b[1m0s\u001b[0m 1ms/step - attrition_output_accuracy: 1.0000 - department_output_accuracy: 0.9997 - loss: 0.0114 - val_attrition_output_accuracy: 0.7373 - val_department_output_accuracy: 0.5508 - val_loss: 5.8653\n"
          ]
        },
        {
          "data": {
            "text/plain": [
              "<keras.src.callbacks.history.History at 0x150debd30>"
            ]
          },
          "execution_count": 49,
          "metadata": {},
          "output_type": "execute_result"
        }
      ],
      "source": [
        "# Train the model\n",
        "model.fit(\n",
        "    x_train_scaled,\n",
        "    {'department_output': y_train_department_encoded, 'attrition_output': y_train_attrition_encoded},\n",
        "    epochs=100,\n",
        "    batch_size=10,\n",
        "    verbose=1,\n",
        "    validation_split=0.2  \n",
        ")"
      ]
    },
    {
      "cell_type": "code",
      "execution_count": 50,
      "metadata": {
        "colab": {
          "base_uri": "https://localhost:8080/"
        },
        "id": "VsMoaQlgGc3U",
        "outputId": "1bd4e601-e964-4abc-ad83-aeecf6b696be"
      },
      "outputs": [
        {
          "name": "stdout",
          "output_type": "stream",
          "text": [
            "\u001b[1m10/10\u001b[0m \u001b[32m━━━━━━━━━━━━━━━━━━━━\u001b[0m\u001b[37m\u001b[0m \u001b[1m0s\u001b[0m 1ms/step - attrition_output_accuracy: 0.8146 - department_output_accuracy: 0.5627 - loss: 6.4680 \n",
            "Test Loss: 5.628568649291992, Test Accuracy: 0.8299319744110107\n"
          ]
        }
      ],
      "source": [
        "# Evaluate the model with the testing data\n",
        "test_results = model.evaluate(x_test_scaled, {'department_output': y_test_department_encoded, 'attrition_output': y_test_attrition_encoded}, verbose=1)\n",
        "print(f\"Test Loss: {test_results[0]}, Test Accuracy: {test_results[1]}\")\n",
        "\n"
      ]
    },
    {
      "cell_type": "code",
      "execution_count": 55,
      "metadata": {
        "colab": {
          "base_uri": "https://localhost:8080/"
        },
        "id": "ZlCtlHi0Vt54",
        "outputId": "bc21ef3e-80c2-4b38-9c29-79515bc23dec"
      },
      "outputs": [
        {
          "name": "stdout",
          "output_type": "stream",
          "text": [
            "Department Accuracy: 0.8299319744110107\n",
            "Attrition Accuracy: 0.5748299360275269\n"
          ]
        }
      ],
      "source": [
        "# Print the accuracy for both department and attrition\n",
        "print(f\"Department Accuracy: {test_results[1]}\")\n",
        "print(f\"Attrition Accuracy: {test_results[2]}\")\n",
        "\n"
      ]
    },
    {
      "cell_type": "markdown",
      "metadata": {
        "id": "eGSyfsZfWOQM"
      },
      "source": [
        "# Summary\n",
        "\n",
        "In the provided space below, briefly answer the following questions.\n",
        "\n",
        "1. Is accuracy the best metric to use on this data? Why or why not?\n",
        "\n",
        "2. What activation functions did you choose for your output layers, and why?\n",
        "\n",
        "3. Can you name a few ways that this model might be improved?"
      ]
    },
    {
      "cell_type": "markdown",
      "metadata": {
        "id": "pi9SLpFnWvbF"
      },
      "source": [
        "YOUR ANSWERS HERE\n",
        "\n",
        "1. Consider the distribution of the target variables; if they're imbalanced, accuracy might not be the best metric.\n",
        "2. For 'Department', softmax because it's a multi-class problem. For 'Attrition', sigmoid because it's binary.\n",
        "3. Experiment with different architectures, more/less layers, or different types of layers (e.g., dropout for regularization). Tune hyperparameters (e.g., learning rate, batch size).\n",
        "Use more advanced techniques like feature engineering or more sophisticated encoders for categorical data."
      ]
    },
    {
      "cell_type": "markdown",
      "metadata": {},
      "source": []
    }
  ],
  "metadata": {
    "colab": {
      "provenance": []
    },
    "kernelspec": {
      "display_name": "Python 3",
      "language": "python",
      "name": "python3"
    },
    "language_info": {
      "codemirror_mode": {
        "name": "ipython",
        "version": 3
      },
      "file_extension": ".py",
      "mimetype": "text/x-python",
      "name": "python",
      "nbconvert_exporter": "python",
      "pygments_lexer": "ipython3",
      "version": "3.10.13"
    },
    "vscode": {
      "interpreter": {
        "hash": "31f2aee4e71d21fbe5cf8b01ff0e069b9275f58929596ceb00d14d90e3e16cd6"
      }
    }
  },
  "nbformat": 4,
  "nbformat_minor": 0
}
